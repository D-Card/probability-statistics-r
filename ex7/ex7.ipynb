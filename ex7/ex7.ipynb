{
 "cells": [
  {
   "cell_type": "code",
   "execution_count": 3,
   "metadata": {
    "vscode": {
     "languageId": "r"
    }
   },
   "outputs": [
    {
     "data": {
      "text/html": [
       "25.4165677127509"
      ],
      "text/latex": [
       "25.4165677127509"
      ],
      "text/markdown": [
       "25.4165677127509"
      ],
      "text/plain": [
       "[1] 25.41657"
      ]
     },
     "metadata": {},
     "output_type": "display_data"
    },
    {
     "data": {
      "text/html": [
       "25.41"
      ],
      "text/latex": [
       "25.41"
      ],
      "text/markdown": [
       "25.41"
      ],
      "text/plain": [
       "[1] 25.41"
      ]
     },
     "metadata": {},
     "output_type": "display_data"
    },
    {
     "data": {
      "text/html": [
       "0.00656771275091828"
      ],
      "text/latex": [
       "0.00656771275091828"
      ],
      "text/markdown": [
       "0.00656771275091828"
      ],
      "text/plain": [
       "[1] 0.006567713"
      ]
     },
     "metadata": {},
     "output_type": "display_data"
    }
   ],
   "source": [
    "set.seed(824)\n",
    "all_avgs <- c()\n",
    "for (i in 1:655) {\n",
    "    sample <- rbinom(54, 33, 0.77)\n",
    "    avg <- mean(sample)\n",
    "    all_avgs <- c(all_avgs, avg)\n",
    "}\n",
    "all_avgs_avg <- mean(all_avgs)\n",
    "all_avgs_avg\n",
    "vesp = 33 * 0.77\n",
    "vesp\n",
    "abs(all_avgs_avg - vesp)"
   ]
  }
 ],
 "metadata": {
  "kernelspec": {
   "display_name": "R",
   "language": "R",
   "name": "ir"
  },
  "language_info": {
   "codemirror_mode": "r",
   "file_extension": ".r",
   "mimetype": "text/x-r-source",
   "name": "R",
   "pygments_lexer": "r",
   "version": "4.2.0"
  },
  "orig_nbformat": 4
 },
 "nbformat": 4,
 "nbformat_minor": 2
}
