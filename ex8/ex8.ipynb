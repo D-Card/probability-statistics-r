{
 "cells": [
  {
   "cell_type": "code",
   "execution_count": 5,
   "metadata": {
    "vscode": {
     "languageId": "r"
    }
   },
   "outputs": [
    {
     "data": {
      "text/html": [
       "0.203891513778346"
      ],
      "text/latex": [
       "0.203891513778346"
      ],
      "text/markdown": [
       "0.203891513778346"
      ],
      "text/plain": [
       "[1] 0.2038915"
      ]
     },
     "metadata": {},
     "output_type": "display_data"
    }
   ],
   "source": [
    "set.seed(750)\n",
    "all_values <- c()\n",
    "confidence_interval <- function(vector, confidence_level) {\n",
    "  a <- qnorm(1 - ((1 - confidence_level) / 2))\n",
    "  erro <- a / sqrt(length(vector))\n",
    "  result <- c((1 - erro) / mean(vector), (1 + erro) / mean(vector))\n",
    "  return(result)\n",
    "}\n",
    "for (i in 1:1000) {\n",
    "    interval <- confidence_interval(rexp(786, 1.63), 0.92)\n",
    "    all_values <- c(all_values, abs(interval[1] - interval[2]))\n",
    "}\n",
    "mean(all_values)"
   ]
  }
 ],
 "metadata": {
  "kernelspec": {
   "display_name": "R",
   "language": "R",
   "name": "ir"
  },
  "language_info": {
   "codemirror_mode": "r",
   "file_extension": ".r",
   "mimetype": "text/x-r-source",
   "name": "R",
   "pygments_lexer": "r",
   "version": "4.2.0"
  },
  "orig_nbformat": 4
 },
 "nbformat": 4,
 "nbformat_minor": 2
}
